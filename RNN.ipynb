{
 "cells": [
  {
   "cell_type": "code",
   "execution_count": 1,
   "metadata": {},
   "outputs": [],
   "source": [
    "import numpy as np\n",
    "import pandas as pd \n",
    "import matplotlib.pyplot as plt\n",
    "import seaborn as sns\n",
    "import pickle"
   ]
  },
  {
   "cell_type": "code",
   "execution_count": 2,
   "metadata": {},
   "outputs": [],
   "source": [
    "def softmax(x):\n",
    "    e_x = np.exp(x - np.max(x))\n",
    "    return e_x / e_x.sum(axis=0)"
   ]
  },
  {
   "cell_type": "code",
   "execution_count": 6,
   "metadata": {},
   "outputs": [],
   "source": [
    "def rnn_cell_forward(xt,a_prev,parameters):\n",
    "    Waa=parameters[\"Waa\"]\n",
    "    Wax=parameters[\"Wax\"]\n",
    "    Wya=parameters[\"Wya\"]\n",
    "    ba=parameters[\"ba\"]\n",
    "    by=parameters[\"by\"]\n",
    "    a_next=np.tanh(np.dot(Waa,a_prev)+np.dot(Wax,xt)+ba)\n",
    "    yt_pred=softmax(np.dot(Wya,a_next)+by)\n",
    "    cache=(a_next,a_prev,xt,parameters)\n",
    "    return a_next,yt_pred,cache"
   ]
  },
  {
   "cell_type": "code",
   "execution_count": 20,
   "metadata": {},
   "outputs": [],
   "source": [
    "def rnn_forward(x,a0,parameters):\n",
    "    caches=[]\n",
    "    n_x,m,T_x=x.shape\n",
    "    n_y,n_a=parameters[\"Wya\"].shape\n",
    "    a=np.zeros((n_a,m,T_x))\n",
    "    y_pred=np.zeros((n_y,m,T_x))\n",
    "    a_next=a0\n",
    "    for t in range(T_x):\n",
    "        xt=x[:,:,t]\n",
    "        a_next,yt_pred,cache=rnn_cell_forward(xt,a_next,parameters)\n",
    "        a[:,:,t]=a_next\n",
    "        y_pred[:,:,t]=yt_pred\n",
    "        caches.append(cache)\n",
    "    caches=(caches,x)\n",
    "    return a,y_pred,caches"
   ]
  }
 ],
 "metadata": {
  "kernelspec": {
   "display_name": "Python 3",
   "language": "python",
   "name": "python3"
  },
  "language_info": {
   "codemirror_mode": {
    "name": "ipython",
    "version": 3
   },
   "file_extension": ".py",
   "mimetype": "text/x-python",
   "name": "python",
   "nbconvert_exporter": "python",
   "pygments_lexer": "ipython3",
   "version": "3.8.5"
  }
 },
 "nbformat": 4,
 "nbformat_minor": 4
}
